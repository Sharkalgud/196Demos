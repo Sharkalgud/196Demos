{
 "cells": [
  {
   "cell_type": "code",
   "execution_count": 1,
   "metadata": {
    "collapsed": true
   },
   "outputs": [],
   "source": [
    "import numpy as np\n",
    "import pandas as pd\n",
    "from datetime import datetime\n",
    "import matplotlib as mpl\n",
    "import matplotlib.pyplot as plt\n",
    "\n",
    "from nose.tools import (\n",
    "    assert_equal,\n",
    "    assert_is_instance,\n",
    "    assert_almost_equal,\n",
    "    assert_true,\n",
    "    assert_is_not\n",
    ")\n",
    "from numpy.testing import assert_array_equal"
   ]
  },
  {
   "cell_type": "markdown",
   "metadata": {},
   "source": [
    "# Download Tweets"
   ]
  },
  {
   "cell_type": "code",
   "execution_count": 2,
   "metadata": {},
   "outputs": [
    {
     "data": {
      "text/html": [
       "<div>\n",
       "<style>\n",
       "    .dataframe thead tr:only-child th {\n",
       "        text-align: right;\n",
       "    }\n",
       "\n",
       "    .dataframe thead th {\n",
       "        text-align: left;\n",
       "    }\n",
       "\n",
       "    .dataframe tbody tr th {\n",
       "        vertical-align: top;\n",
       "    }\n",
       "</style>\n",
       "<table border=\"1\" class=\"dataframe\">\n",
       "  <thead>\n",
       "    <tr style=\"text-align: right;\">\n",
       "      <th></th>\n",
       "      <th>created_at</th>\n",
       "      <th>favorite_count</th>\n",
       "      <th>id_str</th>\n",
       "      <th>is_retweet</th>\n",
       "      <th>retweet_count</th>\n",
       "      <th>source</th>\n",
       "      <th>text</th>\n",
       "    </tr>\n",
       "  </thead>\n",
       "  <tbody>\n",
       "    <tr>\n",
       "      <th>0</th>\n",
       "      <td>2017-12-31 04:46:21</td>\n",
       "      <td>58549</td>\n",
       "      <td>947328044821336064</td>\n",
       "      <td>False</td>\n",
       "      <td>13096</td>\n",
       "      <td>Twitter for iPhone</td>\n",
       "      <td>“Trump Rally: Stocks put 2017 in the record bo...</td>\n",
       "    </tr>\n",
       "    <tr>\n",
       "      <th>1</th>\n",
       "      <td>2017-12-30 22:42:09</td>\n",
       "      <td>117013</td>\n",
       "      <td>947236393184628736</td>\n",
       "      <td>False</td>\n",
       "      <td>24332</td>\n",
       "      <td>Twitter for iPhone</td>\n",
       "      <td>Jobs are kicking in and companies are coming b...</td>\n",
       "    </tr>\n",
       "    <tr>\n",
       "      <th>2</th>\n",
       "      <td>2017-12-30 22:36:41</td>\n",
       "      <td>195754</td>\n",
       "      <td>947235015343202304</td>\n",
       "      <td>False</td>\n",
       "      <td>50342</td>\n",
       "      <td>Twitter for iPhone</td>\n",
       "      <td>I use Social Media not because I like to, but ...</td>\n",
       "    </tr>\n",
       "    <tr>\n",
       "      <th>3</th>\n",
       "      <td>2017-12-30 21:12:45</td>\n",
       "      <td>73325</td>\n",
       "      <td>947213895286054912</td>\n",
       "      <td>False</td>\n",
       "      <td>16703</td>\n",
       "      <td>Twitter for iPhone</td>\n",
       "      <td>On Taxes: “This is the biggest corporate rate ...</td>\n",
       "    </tr>\n",
       "    <tr>\n",
       "      <th>4</th>\n",
       "      <td>2017-12-30 19:02:53</td>\n",
       "      <td>78932</td>\n",
       "      <td>947181212468203520</td>\n",
       "      <td>False</td>\n",
       "      <td>23270</td>\n",
       "      <td>Twitter for iPhone</td>\n",
       "      <td>Oppressive regimes cannot endure forever, and ...</td>\n",
       "    </tr>\n",
       "  </tbody>\n",
       "</table>\n",
       "</div>"
      ],
      "text/plain": [
       "           created_at  favorite_count              id_str  is_retweet  \\\n",
       "0 2017-12-31 04:46:21           58549  947328044821336064       False   \n",
       "1 2017-12-30 22:42:09          117013  947236393184628736       False   \n",
       "2 2017-12-30 22:36:41          195754  947235015343202304       False   \n",
       "3 2017-12-30 21:12:45           73325  947213895286054912       False   \n",
       "4 2017-12-30 19:02:53           78932  947181212468203520       False   \n",
       "\n",
       "   retweet_count              source  \\\n",
       "0          13096  Twitter for iPhone   \n",
       "1          24332  Twitter for iPhone   \n",
       "2          50342  Twitter for iPhone   \n",
       "3          16703  Twitter for iPhone   \n",
       "4          23270  Twitter for iPhone   \n",
       "\n",
       "                                                text  \n",
       "0  “Trump Rally: Stocks put 2017 in the record bo...  \n",
       "1  Jobs are kicking in and companies are coming b...  \n",
       "2  I use Social Media not because I like to, but ...  \n",
       "3  On Taxes: “This is the biggest corporate rate ...  \n",
       "4  Oppressive regimes cannot endure forever, and ...  "
      ]
     },
     "execution_count": 2,
     "metadata": {},
     "output_type": "execute_result"
    }
   ],
   "source": [
    "# Load the President Trump's tweets\n",
    "trump_twitter = pd.read_json('trump_tweets_2017.json', encoding='utf8')\n",
    "trump_twitter.head()"
   ]
  },
  {
   "cell_type": "markdown",
   "metadata": {},
   "source": [
    "# Preprocessing"
   ]
  },
  {
   "cell_type": "code",
   "execution_count": 3,
   "metadata": {
    "collapsed": true
   },
   "outputs": [],
   "source": [
    "def clean_data(df):\n",
    "    '''    \n",
    "    Parameters\n",
    "    ----------\n",
    "    df: a Pandas DataFrame of President Trump's tweets.\n",
    "    \n",
    "    Returns\n",
    "    -------\n",
    "    result: a Pandas DataFrame.\n",
    "    '''\n",
    "\n",
    "    result = df.loc[df[\"created_at\"] >= \"2017-01-20\", :]\n",
    "    result = result.loc[df[\"is_retweet\"] == False, :]\n",
    "    result = result.drop(['source', 'is_retweet'], axis = 1)\n",
    "    return result\n",
    "trump_df = clean_data(trump_twitter)"
   ]
  },
  {
   "cell_type": "markdown",
   "metadata": {},
   "source": [
    "# Graph Tweets By Hour"
   ]
  },
  {
   "cell_type": "code",
   "execution_count": 4,
   "metadata": {},
   "outputs": [
    {
     "data": {
      "image/png": "[encoded data removed]",
      "text/plain": [
       "<matplotlib.figure.Figure at 0x18448f5c630>"
      ]
     },
     "metadata": {},
     "output_type": "display_data"
    }
   ],
   "source": [
    "def trump_histogram(df):\n",
    "    '''    \n",
    "    Parameters\n",
    "    ----------\n",
    "    df: a Pandas DataFrame of President Trump's tweets.\n",
    "    \n",
    "    Returns\n",
    "    -------\n",
    "    ax: A matplotlib.Axes instance.\n",
    "    '''\n",
    "    date_now = datetime.utcnow()\n",
    "    hours = []\n",
    "    for time in df['created_at'].values:\n",
    "        hour = datetime.utcfromtimestamp(time.tolist()/1e9).hour\n",
    "        hours.append(hour)\n",
    "    fig, ax = plt.subplots()\n",
    "    ax.hist(hours, 24, color = 'red')\n",
    "    plt.title(\"President Trump's Tweet Frequency during the hours of the day\")\n",
    "    plt.xlabel(\"Hour\")\n",
    "    plt.ylabel(\"Count\")\n",
    "    return ax\n",
    "ax = trump_histogram(trump_df)\n",
    "plt.show()"
   ]
  },
  {
   "cell_type": "code",
   "execution_count": 5,
   "metadata": {},
   "outputs": [
    {
     "name": "stdout",
     "output_type": "stream",
     "text": [
      "['#FraudNewsCNN #FNN https://t.co/WYUnHjjUjg', 'Why would Kim Jong-un insult me by calling me \"old,\" when I would NEVER call him \"short and fat?\" Oh well, I try so hard to be his friend - and maybe someday that will happen!', 'Despite the constant negative press covfefe', \"I don't know Putin, have no deals in Russia, and the haters are going crazy - yet Obama can make a deal with Iran, #1in terror, no problem!\", 'Will be interviewed on @oreillyfactor tonight at 8:00 P.M.', 'Playef golf today with Prime Minister Abe of Japan and @TheBig_Easy, Ernie Els, and had a great time. Japan is very well represented!']\n",
      "['Why would Kim Jong-un insult me by calling me \"old,\" when I would NEVER call him \"short and fat?\" Oh well, I try so hard to be his friend - and maybe someday that will happen!', '#FraudNewsCNN #FNN https://t.co/WYUnHjjUjg', 'Playef golf today with Prime Minister Abe of Japan and @TheBig_Easy, Ernie Els, and had a great time. Japan is very well represented!', \"I don't know Putin, have no deals in Russia, and the haters are going crazy - yet Obama can make a deal with Iran, #1in terror, no problem!\"]\n"
     ]
    }
   ],
   "source": [
    "def best_worse_tweet(df, variable, n):\n",
    "    '''    \n",
    "    Parameters\n",
    "    ----------\n",
    "    df: a Pandas DataFrame of President Trump's tweets.\n",
    "    variable: a String\n",
    "    n: a Int.\n",
    "    \n",
    "    Returns\n",
    "    -------\n",
    "    result: a List of strings.\n",
    "    '''\n",
    "    low = list(df.sort_values(by = [variable])['text'].values)[-n:][::-1]\n",
    "    high = list(df.sort_values(by = [variable])['text'].values)[:n]\n",
    "    result = low + high\n",
    "    return result\n",
    "test1 = best_worse_tweet(trump_df, 'retweet_count', 3)\n",
    "print(test1)\n",
    "test2 = best_worse_tweet(trump_df, 'favorite_count', 2)\n",
    "print(test2)"
   ]
  },
  {
   "cell_type": "markdown",
   "metadata": {},
   "source": [
    "# Get Negative and Positive Words"
   ]
  },
  {
   "cell_type": "code",
   "execution_count": 10,
   "metadata": {
    "collapsed": true
   },
   "outputs": [],
   "source": [
    "import re\n",
    "\n",
    "trump_tweets = []\n",
    "for i in list(trump_df['text']):\n",
    "    trump_tweets.append(' '.join(re.sub(\"(@[A-Za-z0-9]+)|([^0-9A-Za-z \\t])|(\\w+:\\/\\/\\S+)\",\" \", i).split()).lower())"
   ]
  },
  {
   "cell_type": "code",
   "execution_count": 11,
   "metadata": {},
   "outputs": [
    {
     "name": "stdout",
     "output_type": "stream",
     "text": [
      "['2-faced', '2-faces', 'abnormal', 'abolish', 'abominable', 'abominably', 'abominate', 'abomination', 'abort', 'aborted']\n",
      "['a+', 'abound', 'abounds', 'abundance', 'abundant', 'accessable', 'accessible', 'acclaim', 'acclaimed', 'acclamation']\n"
     ]
    }
   ],
   "source": [
    "from urllib.request import urlopen\n",
    "\n",
    "# Load the text file of negative words\n",
    "data = urlopen('http://ptrckprry.com/course/ssd/data/negative-words.txt')\n",
    "\n",
    "negative_words = []\n",
    "for line in data:\n",
    "    # Remove the comments from the file\n",
    "    if ';' not in str(line):\n",
    "        negative_words.append((line.strip()).decode('latin-1'))\n",
    "negative_words = list(filter(None, negative_words))\n",
    "\n",
    "\n",
    "# Load the text file of positive words\n",
    "data = urlopen('http://ptrckprry.com/course/ssd/data/positive-words.txt')\n",
    "\n",
    "positive_words = []\n",
    "for line in data:\n",
    "    # Remove the comments from the file\n",
    "    if ';' not in str(line):\n",
    "        positive_words.append((line.strip()).decode('latin-1'))\n",
    "positive_words = list(filter(None, positive_words))\n",
    "\n",
    "# Print some negative words\n",
    "print(negative_words[0:10])\n",
    "\n",
    "# Print some positive words\n",
    "print(positive_words[0:10])"
   ]
  },
  {
   "cell_type": "code",
   "execution_count": 12,
   "metadata": {
    "collapsed": true
   },
   "outputs": [],
   "source": [
    "def pos_neg_prop(tweet, pos_words, neg_words):\n",
    "    '''\n",
    "    Parameters\n",
    "    ----------\n",
    "    tweet: a String.\n",
    "    pos_words: a List of string.\n",
    "    neg_words: a List of string.\n",
    "    \n",
    "    Returns\n",
    "    -------\n",
    "    pos_prop: A float.\n",
    "    neg_prop: A float.\n",
    "    '''\n",
    "    twt = tweet.split()\n",
    "    pos_word_count = 0\n",
    "    neg_word_count = 0\n",
    "    total_count = 0\n",
    "    for word in twt:\n",
    "        if word in pos_words:\n",
    "            pos_word_count += 1\n",
    "        elif word in neg_words:\n",
    "            neg_word_count += 1\n",
    "        total_count += 1\n",
    "    pos_prop = pos_word_count / total_count\n",
    "    neg_prop = neg_word_count / total_count\n",
    "    return pos_prop, neg_prop"
   ]
  },
  {
   "cell_type": "code",
   "execution_count": 14,
   "metadata": {},
   "outputs": [
    {
     "name": "stdout",
     "output_type": "stream",
     "text": [
      "merry christmas\n",
      "(0.5, 0.0) (0.5, 0.0)\n",
      "fake news cnn made a vicious and purposeful mistake yesterday they were caught red handed just like lonely brian ross at abc news who should be immediately fired for his mistake watch to see if fires those responsible or was it just gross incompetence\n",
      "(0.045454545454545456, 0.1590909090909091) (0.045454545454545456, 0.1590909090909091)\n",
      "stock market hits an all time high unemployment lowest in 16 years business and manufacturing enthusiasm at highest level in decades\n",
      "(0.047619047619047616, 0.0) (0.047619047619047616, 0.0)\n",
      "i would like to thank reince priebus for his service and dedication to his country we accomplished a lot together and i am proud of him\n",
      "(0.15384615384615385, 0.0) (0.15384615384615385, 0.0)\n"
     ]
    }
   ],
   "source": [
    "print(trump_tweets[25])\n",
    "print(pos_neg_prop(trump_tweets[25], positive_words, negative_words), (0.5, 0.0))\n",
    "print(trump_tweets[115])\n",
    "print(pos_neg_prop(trump_tweets[115], positive_words, negative_words), (0.045454545454545456, 0.1590909090909091))\n",
    "print(trump_tweets[633])\n",
    "print(pos_neg_prop(trump_tweets[633], positive_words, negative_words), (0.047619047619047616, 0.0))\n",
    "print(trump_tweets[1124])\n",
    "print(pos_neg_prop(trump_tweets[1124], positive_words, negative_words), (0.15384615384615385, 0.0))"
   ]
  },
  {
   "cell_type": "code",
   "execution_count": 15,
   "metadata": {},
   "outputs": [
    {
     "name": "stdout",
     "output_type": "stream",
     "text": [
      "Number of Positive Tweets: 1079\n",
      "Number of Negative Tweets: 548\n"
     ]
    }
   ],
   "source": [
    "positive_tweets = 0\n",
    "negative_tweets = 0\n",
    "\n",
    "# Determine which tweets are positive/negative based on the proportion of words\n",
    "for tweet in trump_tweets:\n",
    "    pos_prop, neg_prop = pos_neg_prop(tweet, positive_words, negative_words)\n",
    "    if pos_prop > neg_prop:\n",
    "        positive_tweets += 1\n",
    "    elif neg_prop > pos_prop:\n",
    "        negative_tweets += 1\n",
    "\n",
    "print('Number of Positive Tweets:', positive_tweets)\n",
    "print('Number of Negative Tweets:', negative_tweets)"
   ]
  },
  {
   "cell_type": "code",
   "execution_count": null,
   "metadata": {
    "collapsed": true
   },
   "outputs": [],
   "source": []
  }
 ],
 "metadata": {
  "kernelspec": {
   "display_name": "Python 3",
   "language": "python",
   "name": "python3"
  },
  "language_info": {
   "codemirror_mode": {
    "name": "ipython",
    "version": 3
   },
   "file_extension": ".py",
   "mimetype": "text/x-python",
   "name": "python",
   "nbconvert_exporter": "python",
   "pygments_lexer": "ipython3",
   "version": "3.6.3"
  }
 },
 "nbformat": 4,
 "nbformat_minor": 2
}
